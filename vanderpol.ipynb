{
 "cells": [
  {
   "cell_type": "code",
   "execution_count": 1,
   "metadata": {
    "collapsed": true
   },
   "outputs": [],
   "source": [
    "import numpy as np\n",
    "import matplotlib.pyplot as plt\n",
    "from scipy.integrate import odeint\n",
    "from matplotlib import animation"
   ]
  },
  {
   "cell_type": "code",
   "execution_count": 2,
   "metadata": {
    "collapsed": true
   },
   "outputs": [],
   "source": [
    "mu = 1"
   ]
  },
  {
   "cell_type": "code",
   "execution_count": 3,
   "metadata": {
    "collapsed": true
   },
   "outputs": [],
   "source": [
    "def vanderpol_func(X,t): \n",
    "\tx, y = tuple(X)\n",
    "\tdxdt = y\n",
    "\tdydt = mu*(1.0-x*x)*y-x\n",
    "\treturn [dxdt,dydt]"
   ]
  },
  {
   "cell_type": "code",
   "execution_count": 4,
   "metadata": {
    "collapsed": true
   },
   "outputs": [],
   "source": [
    "\n",
    "def animate(i):\n",
    "\tline1.set_data(t[:i],x[:i])\n",
    "\tline2.set_data(t[:i],y[:i])\n",
    "\treturn line1, line2,\n"
   ]
  },
  {
   "cell_type": "code",
   "execution_count": 5,
   "metadata": {
    "collapsed": true
   },
   "outputs": [],
   "source": [
    "\n",
    "def init():\n",
    "\tline1, = ax.plot([],[])\n",
    "\tline2, = ax.plot([],[])\n",
    "\tline1.set_ydata(np.ma.array(t, mask=True))\n",
    "\tline2.set_ydata(np.ma.array(t, mask=True))\n",
    "\treturn line1, line2,"
   ]
  },
  {
   "cell_type": "code",
   "execution_count": null,
   "metadata": {
    "collapsed": true
   },
   "outputs": [],
   "source": [
    "x0 = [1,2]\n",
    "t = np.linspace(0,100,1000)\n",
    "\n",
    "solution = odeint(vanderpol_func,x0,t)\n",
    "fig = plt.figure()\n",
    "ax = plt.axes(xlim=(np.amin(t), np.amax(t)+0.1), ylim=(np.amin(solution)-0.1, np.amax(solution)+0.1))\n",
    "\n",
    "x = solution[:,0]\n",
    "y = solution[:,1]\n",
    "\n",
    "ani = animation.FuncAnimation(fig, animate, np.arange(len(t)), init_func=init, blit=True)\n"
   ]
  }
 ],
 "metadata": {
  "kernelspec": {
   "display_name": "Python [Root]",
   "language": "python",
   "name": "Python [Root]"
  },
  "language_info": {
   "codemirror_mode": {
    "name": "ipython",
    "version": 3
   },
   "file_extension": ".py",
   "mimetype": "text/x-python",
   "name": "python",
   "nbconvert_exporter": "python",
   "pygments_lexer": "ipython3",
   "version": "3.5.2"
  }
 },
 "nbformat": 4,
 "nbformat_minor": 0
}
